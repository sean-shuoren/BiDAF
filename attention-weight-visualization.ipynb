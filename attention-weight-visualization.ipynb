{
 "cells": [
  {
   "cell_type": "code",
   "execution_count": null,
   "metadata": {},
   "outputs": [],
   "source": [
    "import torch\n",
    "device = torch.device(\"cuda:0\" if torch.cuda.is_available() else \"cpu\")\n",
    "print(\"Device is set to\", device)"
   ]
  },
  {
   "cell_type": "markdown",
   "metadata": {},
   "source": [
    "# Load SQuAD 1.1 dataset"
   ]
  },
  {
   "cell_type": "code",
   "execution_count": null,
   "metadata": {},
   "outputs": [],
   "source": [
    "from model.data import SQuAD\n",
    "data = SQuAD(device=device, train_batch_size=60)\n",
    "print(\"SQuAD 1.1 loaded\")"
   ]
  },
  {
   "cell_type": "code",
   "execution_count": null,
   "metadata": {
    "collapsed": true
   },
   "outputs": [],
   "source": [
    "for b in iter(data.train_iter):\n",
    "    batch = b\n",
    "    break"
   ]
  },
  {
   "cell_type": "markdown",
   "metadata": {},
   "source": [
    "# Load trained BiDAF model"
   ]
  },
  {
   "cell_type": "code",
   "execution_count": null,
   "metadata": {
    "collapsed": true
   },
   "outputs": [],
   "source": [
    "model_time = \"\"  # TODO"
   ]
  },
  {
   "cell_type": "code",
   "execution_count": null,
   "metadata": {},
   "outputs": [],
   "source": [
    "from model.model import BiDAF\n",
    "model = BiDAF(pretrain_embedding=data.WORD.vocab.vectors,\n",
    "              char_vocab_size=len(data.CHAR_NESTING.vocab)).to(device)\n",
    "\n",
    "model.load_state_dict(torch.load(f'trained_models/BiDAF_{model_time}.pt', map_location='cpu'))\n",
    "model.eval()"
   ]
  },
  {
   "cell_type": "markdown",
   "metadata": {},
   "source": [
    "# Pull out model forward logic to get intermediate variables"
   ]
  },
  {
   "cell_type": "code",
   "execution_count": null,
   "metadata": {},
   "outputs": [],
   "source": [
    "# Character Embedding Layer\n",
    "x_char_emb = model.char_emb(batch.x_char)\n",
    "q_char_emb = model.char_emb(batch.q_char)\n",
    "# Word Embedding Layer\n",
    "x_word_emb = model.word_emb(batch.x_word[0])\n",
    "q_word_emb = model.word_emb(batch.q_word[0])\n",
    "x_lens = batch.x_word[1]\n",
    "q_lens = batch.q_word[1]\n",
    "x = model.highway(x_char_emb, x_word_emb)\n",
    "q = model.highway(q_char_emb, q_word_emb)\n",
    "# Contextual Embedding Layer\n",
    "h = model.contextual_emb(x, x_lens)\n",
    "u = model.contextual_emb(q, q_lens)\n",
    "# Attention Flow Layer\n",
    "g = self.bidaf(h, u)"
   ]
  },
  {
   "cell_type": "code",
   "execution_count": null,
   "metadata": {
    "collapsed": true
   },
   "outputs": [],
   "source": [
    "import matplotlib.pyplot as plt\n",
    "import numpy as np\n",
    "\n",
    "plt.matshow(g.numpy())"
   ]
  }
 ],
 "metadata": {
  "kernelspec": {
   "display_name": "Python 3",
   "language": "python",
   "name": "python3"
  },
  "language_info": {
   "codemirror_mode": {
    "name": "ipython",
    "version": 3
   },
   "file_extension": ".py",
   "mimetype": "text/x-python",
   "name": "python",
   "nbconvert_exporter": "python",
   "pygments_lexer": "ipython3",
   "version": "3.6.8"
  }
 },
 "nbformat": 4,
 "nbformat_minor": 2
}
