{
 "cells": [
  {
   "cell_type": "code",
   "execution_count": 1,
   "metadata": {},
   "outputs": [
    {
     "name": "stdout",
     "output_type": "stream",
     "text": [
      "Device is set to cpu\n"
     ]
    }
   ],
   "source": [
    "import torch\n",
    "device = torch.device(\"cpu\")\n",
    "print(\"Device is set to\", device)"
   ]
  },
  {
   "cell_type": "markdown",
   "metadata": {},
   "source": [
    "# Load SQuAD 1.1 dataset"
   ]
  },
  {
   "cell_type": "code",
   "execution_count": 2,
   "metadata": {},
   "outputs": [
    {
     "name": "stdout",
     "output_type": "stream",
     "text": [
      "SQuAD 1.1 loaded\n"
     ]
    }
   ],
   "source": [
    "from model.data import SQuAD\n",
    "data = SQuAD(device=device, train_batch_size=1, dev_batch_size=1)\n",
    "print(\"SQuAD 1.1 loaded\")"
   ]
  },
  {
   "cell_type": "markdown",
   "metadata": {},
   "source": [
    "# Load trained BiDAF model"
   ]
  },
  {
   "cell_type": "code",
   "execution_count": 3,
   "metadata": {},
   "outputs": [],
   "source": [
    "model_time = \"1554992975\"  # TODO"
   ]
  },
  {
   "cell_type": "code",
   "execution_count": 4,
   "metadata": {},
   "outputs": [
    {
     "data": {
      "text/plain": [
       "BiDAF(\n",
       "  (char_emb): CharCNN(\n",
       "    (char_embedding): Embedding(1318, 8)\n",
       "    (char_cnn): Conv2d(1, 100, kernel_size=(5, 8), stride=(1, 1))\n",
       "    (dropout): Dropout(p=0.2)\n",
       "  )\n",
       "  (word_emb): Embedding(97385, 100)\n",
       "  (highway): HighwayMLP(\n",
       "    (gate): ModuleList(\n",
       "      (0): Sequential(\n",
       "        (0): Linear(in_features=200, out_features=200, bias=True)\n",
       "        (1): Sigmoid()\n",
       "      )\n",
       "      (1): Sequential(\n",
       "        (0): Linear(in_features=200, out_features=200, bias=True)\n",
       "        (1): Sigmoid()\n",
       "      )\n",
       "    )\n",
       "    (transform): ModuleList(\n",
       "      (0): Sequential(\n",
       "        (0): Linear(in_features=200, out_features=200, bias=True)\n",
       "        (1): ReLU()\n",
       "      )\n",
       "      (1): Sequential(\n",
       "        (0): Linear(in_features=200, out_features=200, bias=True)\n",
       "        (1): ReLU()\n",
       "      )\n",
       "    )\n",
       "  )\n",
       "  (contextual_emb): SingleLayerLSTM(\n",
       "    (lstm): LSTM(200, 100, batch_first=True, bidirectional=True)\n",
       "    (dropout): Dropout(p=0.2)\n",
       "  )\n",
       "  (ws_h): Linear(\n",
       "    (linear): Linear(in_features=200, out_features=1, bias=True)\n",
       "    (dropout): Dropout(p=0.2)\n",
       "  )\n",
       "  (ws_u): Linear(\n",
       "    (linear): Linear(in_features=200, out_features=1, bias=True)\n",
       "    (dropout): Dropout(p=0.2)\n",
       "  )\n",
       "  (ws_hu): Linear(\n",
       "    (linear): Linear(in_features=200, out_features=1, bias=True)\n",
       "    (dropout): Dropout(p=0.2)\n",
       "  )\n",
       "  (modeling_lstm_1): SingleLayerLSTM(\n",
       "    (lstm): LSTM(800, 100, batch_first=True, bidirectional=True)\n",
       "    (dropout): Dropout(p=0.2)\n",
       "  )\n",
       "  (modeling_lstm_2): SingleLayerLSTM(\n",
       "    (lstm): LSTM(200, 100, batch_first=True, bidirectional=True)\n",
       "    (dropout): Dropout(p=0.2)\n",
       "  )\n",
       "  (output_lstm): SingleLayerLSTM(\n",
       "    (lstm): LSTM(200, 100, batch_first=True, bidirectional=True)\n",
       "    (dropout): Dropout(p=0.2)\n",
       "  )\n",
       "  (wp1_g): Linear(\n",
       "    (linear): Linear(in_features=800, out_features=1, bias=True)\n",
       "    (dropout): Dropout(p=0.2)\n",
       "  )\n",
       "  (wp1_m): Linear(\n",
       "    (linear): Linear(in_features=200, out_features=1, bias=True)\n",
       "    (dropout): Dropout(p=0.2)\n",
       "  )\n",
       "  (wp2_g): Linear(\n",
       "    (linear): Linear(in_features=800, out_features=1, bias=True)\n",
       "    (dropout): Dropout(p=0.2)\n",
       "  )\n",
       "  (wp2_m): Linear(\n",
       "    (linear): Linear(in_features=200, out_features=1, bias=True)\n",
       "    (dropout): Dropout(p=0.2)\n",
       "  )\n",
       ")"
      ]
     },
     "execution_count": 4,
     "metadata": {},
     "output_type": "execute_result"
    }
   ],
   "source": [
    "from model.model import BiDAF\n",
    "model = BiDAF(pretrain_embedding=data.WORD.vocab.vectors,\n",
    "              char_vocab_size=len(data.CHAR_NESTING.vocab)).to(device)\n",
    "\n",
    "model.load_state_dict(torch.load(f'trained_models/BiDAF_{model_time}.pt', map_location='cpu'))\n",
    "model.eval()"
   ]
  },
  {
   "cell_type": "markdown",
   "metadata": {},
   "source": [
    "# Pull out model forward logic to get intermediate variables"
   ]
  },
  {
   "cell_type": "code",
   "execution_count": 6,
   "metadata": {},
   "outputs": [],
   "source": [
    "qa_id = \"56be4e1facb8001400a502fa\"\n",
    "for b in iter(data.dev_iter):\n",
    "    if b.id[0] == qa_id:\n",
    "        batch = b\n",
    "        break"
   ]
  },
  {
   "cell_type": "code",
   "execution_count": 7,
   "metadata": {},
   "outputs": [],
   "source": [
    "# Character Embedding Layer\n",
    "x_char_emb = model.char_emb(batch.x_char)\n",
    "q_char_emb = model.char_emb(batch.q_char)\n",
    "# Word Embedding Layer\n",
    "x_word_emb = model.word_emb(batch.x_word[0])\n",
    "q_word_emb = model.word_emb(batch.q_word[0])\n",
    "x_lens = batch.x_word[1]\n",
    "q_lens = batch.q_word[1]\n",
    "x = model.highway(x_char_emb, x_word_emb)\n",
    "q = model.highway(q_char_emb, q_word_emb)\n",
    "# Contextual Embedding Layer\n",
    "h = model.contextual_emb(x, x_lens)\n",
    "u = model.contextual_emb(q, q_lens)"
   ]
  },
  {
   "cell_type": "code",
   "execution_count": 8,
   "metadata": {},
   "outputs": [],
   "source": [
    "# Attention Flow Layer\n",
    "t = h.size(1)  # x_len, h: (batch, x_len, hidden*2)\n",
    "j = u.size(1)  # q_len, u: (batch, q_len, hidden*2)\n",
    "hh = h.unsqueeze(2).expand(-1, -1, j, -1)  # (batch, x_len, q_len, hidden*2)\n",
    "uu = u.unsqueeze(1).expand(-1, t, -1, -1)  # (batch, x_len, q_len, hidden*2)\n",
    "s = model.ws_h(hh) + model.ws_u(uu) + model.ws_hu(hh * uu)  # (batch, x_len, q_len)\n",
    "s = s.squeeze(dim=-1)\n",
    "\n",
    "a = torch.nn.functional.softmax(s, dim=-1)     # (batch, x_len, q_len)\n",
    "c2q_att = torch.bmm(a, u)   # (batch, x_len, hidden*2)\n",
    "\n",
    "b = torch.nn.functional.softmax(torch.max(s, dim=2)[0], dim=1).unsqueeze(1)  # (batch, 1, x_len)\n",
    "q2c_att = torch.bmm(b, h).squeeze(dim=1)                        # (batch, hidden*2)\n",
    "q2c_att = q2c_att.unsqueeze(1).repeat(1, t, 1)             # (batch, x_len, hidden*2)\n",
    "\n",
    "g = torch.cat((h, c2q_att, h * c2q_att, h * q2c_att), dim=-1)"
   ]
  },
  {
   "cell_type": "code",
   "execution_count": 9,
   "metadata": {},
   "outputs": [],
   "source": [
    "import matplotlib.pyplot as plt\n",
    "import numpy as np"
   ]
  },
  {
   "cell_type": "code",
   "execution_count": 10,
   "metadata": {},
   "outputs": [
    {
     "name": "stdout",
     "output_type": "stream",
     "text": [
      "what year was the carolina panthers franchise founded ?\n",
      "the panthers finished the regular season with a 15–1 record , and quarterback cam newton was named the nfl most valuable player ( mvp ) . they defeated the arizona cardinals 49–15 in the nfc championship game and advanced to their second super bowl appearance since the franchise was founded in 1995 . the broncos finished the regular season with a 12–4 record , and denied the new england patriots a chance to defend their title from super bowl xlix by defeating them 20–18 in the afc championship game . they joined the patriots , dallas cowboys , and pittsburgh steelers as one of four teams that have made eight appearances in the super bowl .\n",
      "1995\n"
     ]
    }
   ],
   "source": [
    "query = [data.WORD.vocab.itos[idx] for idx in batch.q_word[0][0].numpy()]\n",
    "context = [data.WORD.vocab.itos[idx] for idx in batch.x_word[0][0].numpy()]\n",
    "answer = context[batch.p_begin[0].item():batch.p_end[0].item()+1]\n",
    "print(' '.join(query))\n",
    "print(' '.join(context))\n",
    "print(' '.join(answer))"
   ]
  },
  {
   "cell_type": "code",
   "execution_count": 11,
   "metadata": {},
   "outputs": [
    {
     "data": {
      "image/png": "[encoded data removed]",
      "text/plain": [
       "<Figure size 1332x1332 with 1 Axes>"
      ]
     },
     "metadata": {
      "needs_background": "light"
     },
     "output_type": "display_data"
    }
   ],
   "source": [
    "matrix = a[0].detach().numpy().T\n",
    "\n",
    "fig = plt.gcf()\n",
    "fig.set_size_inches(18.5, 18.5)\n",
    "ax = plt.gca()\n",
    "ax.matshow(matrix, aspect=5)\n",
    "\n",
    "ax.get_xaxis().set_visible(False)\n",
    "ax.get_yaxis().set_visible(False)\n",
    "plt.savefig(\"att.png\", dpi=100)\n",
    "plt.show()"
   ]
  },
  {
   "cell_type": "code",
   "execution_count": 12,
   "metadata": {},
   "outputs": [
    {
     "name": "stdout",
     "output_type": "stream",
     "text": [
      "1995\n",
      "what ['that', 'have', 'them', 'advanced', 'chance']\n",
      "year ['1995', '20–18', '15–1', 'four', '49–15']\n",
      "was ['was', 'was', 'as', 'they', 'named']\n",
      "the ['the', 'the', 'the', 'the', 'the']\n",
      "carolina ['pittsburgh', 'dallas', 'arizona', 'england', 'defeated']\n",
      "panthers ['panthers', 'cam', 'patriots', 'broncos', 'patriots']\n",
      "franchise ['franchise', 'championship', 'championship', 'bowl', 'record']\n",
      "founded ['founded', 'joined', 'newton', 'england', 'teams']\n",
      "? ['.', '.', '.', '.', 'and']\n"
     ]
    }
   ],
   "source": [
    "print(' '.join(answer))\n",
    "for i in range(len(matrix)):\n",
    "    d = {}\n",
    "    for j in range(len(matrix[i])):\n",
    "        d[j] = matrix[i][j]\n",
    "    sorted_d = sorted(d, key=d.get, reverse=True)\n",
    "    print(query[i], [context[sorted_d[k]] for k in range(5)])"
   ]
  },
  {
   "cell_type": "code",
   "execution_count": null,
   "metadata": {},
   "outputs": [],
   "source": []
  }
 ],
 "metadata": {
  "kernelspec": {
   "display_name": "Python 3",
   "language": "python",
   "name": "python3"
  },
  "language_info": {
   "codemirror_mode": {
    "name": "ipython",
    "version": 3
   },
   "file_extension": ".py",
   "mimetype": "text/x-python",
   "name": "python",
   "nbconvert_exporter": "python",
   "pygments_lexer": "ipython3",
   "version": "3.6.7"
  }
 },
 "nbformat": 4,
 "nbformat_minor": 2
}
