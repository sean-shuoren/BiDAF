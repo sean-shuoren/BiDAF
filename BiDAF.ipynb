{
 "cells": [
  {
   "cell_type": "markdown",
   "metadata": {},
   "source": [
    "# Data"
   ]
  },
  {
   "cell_type": "code",
   "execution_count": 4,
   "metadata": {
    "collapsed": true
   },
   "outputs": [],
   "source": [
    "import io\n",
    "import json\n",
    "import os\n",
    "\n",
    "from torchtext import data\n",
    "from torchtext.vocab import GloVe\n",
    "import spacy"
   ]
  },
  {
   "cell_type": "code",
   "execution_count": 5,
   "metadata": {
    "collapsed": true
   },
   "outputs": [],
   "source": [
    "class SQuAD(object):\n",
    "    def __init__(self, squad_version=\"1.1\", word_vec_dim=100, train_batch_size=60, dev_batch_size=60, gpu=0):\n",
    "        self.spacy = spacy.load('en')\n",
    "        train_file = f'train-v{squad_version}.json'\n",
    "        dev_file = f'dev-v{squad_version}.json'\n",
    "        raw_dir = os.path.join('data', 'raw')\n",
    "        processed_dir = os.path.join('data', 'processed')\n",
    "        if not os.path.exists(os.path.join(processed_dir, train_file)):\n",
    "            self.pre_process(raw_dir, train_file, processed_dir)\n",
    "        if not os.path.exists(os.path.join(processed_dir, dev_file)):\n",
    "            self.pre_process(raw_dir, dev_file, processed_dir)\n",
    "\n",
    "        self.CHAR_NESTING = data.Field(batch_first=True, lower=True, tokenize=list)\n",
    "        self.CHAR = data.NestedField(self.CHAR_NESTING, tokenize=self.tokenizer)\n",
    "        self.WORD = data.Field(batch_first=True, include_lengths=True, lower=True, tokenize=self.tokenizer)\n",
    "        self.LABEL = data.Field(sequential=False, unk_token=None, use_vocab=False)\n",
    "\n",
    "        dict_fields = {'context': [('x_word', self.WORD), ('x_char', self.CHAR)],\n",
    "                       'query': [('q_word', self.WORD), ('q_char', self.CHAR)],\n",
    "                       'p_begin': ('p_begin', self.LABEL),\n",
    "                       'p_end': ('p_end', self.LABEL)}\n",
    "\n",
    "        train, dev = data.TabularDataset.splits(path=processed_dir,\n",
    "                                                train=train_file,\n",
    "                                                validation=dev_file,\n",
    "                                                format='json',\n",
    "                                                fields=dict_fields)\n",
    "\n",
    "        self.CHAR.build_vocab(train, dev)\n",
    "        self.WORD.build_vocab(train, dev, vectors=GloVe(name='6B', dim=word_vec_dim))\n",
    "        self.train_iter, self.dev_iter = data.BucketIterator.splits(\n",
    "            (train, dev),\n",
    "            batch_sizes=[train_batch_size, dev_batch_size],\n",
    "            device=gpu,\n",
    "            sort_key=lambda x: len(x.c_word))\n",
    "\n",
    "    def tokenizer(self, text):\n",
    "        return [t.text for t in self.spacy.tokenizer(text)]\n",
    "\n",
    "    def pre_process(self, input_dir, input_file, output_dir):\n",
    "        in_filename = os.path.join(input_dir, input_file)\n",
    "        out = []\n",
    "        with io.open(in_filename, 'r', encoding='utf-8', errors='ignore') as f:\n",
    "            data = json.load(f)['data']\n",
    "            for article in data:\n",
    "                for paragraph in article['paragraphs']:\n",
    "                    context = paragraph['context']\n",
    "                    tokens = self.tokenizer(context)\n",
    "                    for qa in paragraph['qas']:\n",
    "                        question = qa['question']\n",
    "                        for ans in qa['answers']:\n",
    "                            s_idx = ans['answer_start']\n",
    "                            e_idx = s_idx + len(ans['text'])\n",
    "                            cum_len = 0\n",
    "                            p_begin = -1\n",
    "                            p_end = -1\n",
    "                            answer = \"\"\n",
    "                            for i, t in enumerate(tokens):\n",
    "                                while context[cum_len] == ' ':\n",
    "                                    cum_len += 1\n",
    "                                if p_begin == -1 and s_idx <= cum_len:\n",
    "                                    p_begin = i\n",
    "                                if p_begin != -1:\n",
    "                                    if len(answer) > 0:\n",
    "                                        answer += ' '\n",
    "                                    answer += t\n",
    "                                cum_len += len(t)\n",
    "                                if p_end == -1 and e_idx <= cum_len:\n",
    "                                    p_end = i\n",
    "                                    if p_begin == -1:\n",
    "                                        p_begin = i\n",
    "                                    break\n",
    "                            assert p_begin != -1 and p_end != -1\n",
    "                            out.append(dict([('context', context),\n",
    "                                             ('query', question),\n",
    "                                             ('answer', answer),\n",
    "                                             ('p_begin', p_begin),\n",
    "                                             ('p_end', p_end)]))\n",
    "\n",
    "        out_filename = os.path.join(output_dir, input_file)\n",
    "        with open(out_filename, 'w', encoding='utf-8') as f:\n",
    "            for o in out:\n",
    "                json.dump(o, f)\n",
    "                f.write('\\n')"
   ]
  },
  {
   "cell_type": "code",
   "execution_count": 6,
   "metadata": {},
   "outputs": [
    {
     "name": "stderr",
     "output_type": "stream",
     "text": [
      "The `device` argument should be set by using `torch.device` or passing a string as an argument. This behavior will be deprecated soon and currently defaults to cpu.\n",
      "The `device` argument should be set by using `torch.device` or passing a string as an argument. This behavior will be deprecated soon and currently defaults to cpu.\n"
     ]
    }
   ],
   "source": [
    "squad_data = SQuAD(squad_version='1.1')"
   ]
  },
  {
   "cell_type": "markdown",
   "metadata": {},
   "source": [
    "# Model"
   ]
  },
  {
   "cell_type": "code",
   "execution_count": 7,
   "metadata": {
    "collapsed": true
   },
   "outputs": [],
   "source": [
    "import torch\n",
    "import torch.nn as nn\n",
    "import torch.nn.functional as F\n",
    "\n",
    "from copy import deepcopy"
   ]
  },
  {
   "cell_type": "code",
   "execution_count": 8,
   "metadata": {
    "collapsed": true
   },
   "outputs": [],
   "source": [
    "def copy_module(module, N):\n",
    "    return nn.ModuleList([deepcopy(module) for _ in range(N)])"
   ]
  },
  {
   "cell_type": "code",
   "execution_count": 9,
   "metadata": {
    "collapsed": true
   },
   "outputs": [],
   "source": [
    "class Linear(nn.Module):\n",
    "    def __init__(self, input_dim, output_dim, dropout):\n",
    "        super(Linear, self).__init__()\n",
    "        self.linear = nn.Linear(input_dim, output_dim)\n",
    "        self.dropout = nn.Dropout(p=dropout)\n",
    "\n",
    "    def forward(self, x):\n",
    "        x = self.dropout(x)\n",
    "        x = self.linear(x)\n",
    "        return x"
   ]
  },
  {
   "cell_type": "code",
   "execution_count": 10,
   "metadata": {
    "collapsed": true
   },
   "outputs": [],
   "source": [
    "class HighwayMLP(nn.Module):\n",
    "    def __init__(self, input_size, output_size, num_layer=2):\n",
    "        super(HighwayMLP, self).__init__()\n",
    "        self.num_layer = num_layer\n",
    "        self.gate = copy_module(\n",
    "            nn.Sequential(nn.Linear(input_size, output_size), nn.Sigmoid()),\n",
    "            num_layer)\n",
    "        self.transform = copy_module(\n",
    "            nn.Sequential(nn.Linear(input_size, output_size), nn.ReLU()),\n",
    "            num_layer)\n",
    "\n",
    "    def forward(self, x1, x2):\n",
    "        x = torch.cat((x1, x2), dim=-1)\n",
    "        for i in range(self.num_layer):\n",
    "            t = self.transform[i](x)\n",
    "            g = self.gate[i](x)\n",
    "            x = t * g + (1-g) * x\n",
    "        return x"
   ]
  },
  {
   "cell_type": "code",
   "execution_count": 11,
   "metadata": {
    "collapsed": true
   },
   "outputs": [],
   "source": [
    "class SingleLayerLSTM(nn.Module):\n",
    "    def __init__(self, input_size, hidden_size, bidirectional, dropout):\n",
    "        super(SingleLayerLSTM, self).__init__()\n",
    "        self.lstm = nn.LSTM(input_size=input_size, hidden_size=hidden_size, num_layers=1,\n",
    "                            batch_first=True, bidirectional=bidirectional)\n",
    "        self.dropout = nn.Dropout(p=dropout)\n",
    "\n",
    "    def forward(self, x, x_len):\n",
    "        x = self.dropout(x)\n",
    "\n",
    "        sorted_x_len, x_idx = torch.sort(x_len, descending=True)\n",
    "        sorted_x = x.index_select(dim=0, index=x_idx)\n",
    "        _, x_ori_idx = torch.sort(x_idx)\n",
    "\n",
    "        x_packed = nn.utils.rnn.pack_padded_sequence(sorted_x, sorted_x_len, batch_first=True)\n",
    "        x_packed, _ = self.lstm(x_packed, None)\n",
    "\n",
    "        x, _ = nn.utils.rnn.pad_packed_sequence(x_packed, batch_first=True)\n",
    "        x = x.index_select(dim=0, index=x_ori_idx)\n",
    "        return x"
   ]
  },
  {
   "cell_type": "code",
   "execution_count": 12,
   "metadata": {
    "collapsed": true
   },
   "outputs": [],
   "source": [
    "class CharCNN(nn.Module):\n",
    "    def __init__(self, char_emb_dim, char_vocab_size, channel_num, channel_width, dropout):\n",
    "        super(CharCNN, self).__init__()\n",
    "        self.char_emb_dim = char_emb_dim\n",
    "        self.channel_num = channel_num\n",
    "        self.char_embedding = nn.Embedding(char_vocab_size, char_emb_dim)\n",
    "        self.char_cnn = nn.Conv2d(1, channel_num, (channel_width, char_emb_dim))\n",
    "        self.dropout = nn.Dropout(p=dropout)\n",
    "\n",
    "    def forward(self, x):\n",
    "        batch_len = x.size(0)\n",
    "        seq_len = x.size(1)\n",
    "        x = self.dropout(self.char_embedding(x))                            # (batch_len, seq_len, word_len, char_dim)\n",
    "        x = x.view(batch_len*seq_len, -1, self.char_emb_dim).unsqueeze(1)   # (batch * seq_len, 1, char_dim, word_len)\n",
    "        x = self.char_cnn(x).squeeze()                                      # (batch * seq_len, channel_num, convolved)\n",
    "        x = F.max_pool1d(x, x.size(-1)).squeeze()                           # (batch * seq_len, channel_num)\n",
    "        x = x.view(batch_len, seq_len, self.channel_num)                    # (batch, seq_len, channel_num)\n",
    "        return x"
   ]
  },
  {
   "cell_type": "code",
   "execution_count": 25,
   "metadata": {
    "collapsed": true
   },
   "outputs": [],
   "source": [
    "class BiDAF(nn.Module):\n",
    "    def __init__(self, pretrain_embedding, char_vocab_size,\n",
    "                 hidden_size=100, char_emb_dim=8, char_channel_num=100, char_channel_width=5, dropout=0.2):\n",
    "        super(BiDAF, self).__init__()\n",
    "        self.char_emb = CharCNN(char_emb_dim=char_emb_dim,\n",
    "                                char_vocab_size=char_vocab_size,\n",
    "                                channel_num=char_channel_num,\n",
    "                                channel_width=char_channel_width,\n",
    "                                dropout=dropout)\n",
    "        self.word_emb = nn.Embedding.from_pretrained(pretrain_embedding, freeze=True)\n",
    "        self.highway = HighwayMLP(input_size=hidden_size*2,\n",
    "                                  output_size=hidden_size*2,\n",
    "                                  num_layer=2)\n",
    "        self.contextual_emb = SingleLayerLSTM(input_size=hidden_size*2,\n",
    "                                              hidden_size=hidden_size,\n",
    "                                              bidirectional=True, dropout=dropout)\n",
    "        self.ws_h = Linear(hidden_size * 2, 1, dropout)\n",
    "        self.ws_u = Linear(hidden_size * 2, 1, dropout)\n",
    "        self.ws_hu = Linear(hidden_size * 2, 1, dropout)\n",
    "        self.modeling_lstm_1 = SingleLayerLSTM(input_size=hidden_size * 8,\n",
    "                                               hidden_size=hidden_size,\n",
    "                                               bidirectional=True, dropout=dropout)\n",
    "        self.modeling_lstm_2 = SingleLayerLSTM(input_size=hidden_size * 2,\n",
    "                                               hidden_size=hidden_size,\n",
    "                                               bidirectional=True, dropout=dropout)\n",
    "        self.output_lstm = SingleLayerLSTM(input_size=hidden_size * 2,\n",
    "                                           hidden_size=hidden_size,\n",
    "                                           bidirectional=True, dropout=dropout)\n",
    "        self.wp1_g = Linear(hidden_size * 8, 1, dropout=dropout)\n",
    "        self.wp1_m = Linear(hidden_size * 2, 1, dropout=dropout)\n",
    "        self.wp2_g = Linear(hidden_size * 8, 1, dropout=dropout)\n",
    "        self.wp2_m = Linear(hidden_size * 2, 1, dropout=dropout)\n",
    "\n",
    "    def bidaf(self, h, u):\n",
    "        t = h.size(1)  # x_len\n",
    "        j = u.size(1)  # q_len\n",
    "        hh = h.unsqueeze(2).repeat(1, 1, j, 1)  # (batch, x_len, q_len, hidden*2)\n",
    "        uu = u.unsqueeze(1).repeat(1, t, 1, 1)  # (batch, x_len, q_len, hidden*2)\n",
    "        s = self.ws_h(hh) + self.ws_u(uu) + self.ws_hu(hh * uu)  # (batch, x_len, q_len)\n",
    "        s = s.squeeze()\n",
    "        \n",
    "        a = F.softmax(s, dim=2)     # (batch, x_len, q_len)\n",
    "        c2q_att = torch.bmm(a, u)   # (batch, x_len, hidden*2)\n",
    "\n",
    "        b = F.softmax(torch.max(s, dim=2)[0], dim=1).unsqueeze(1)  # (batch, 1, x_len)\n",
    "        q2c_att = torch.bmm(b, h).squeeze()                        # (batch, hidden*2)\n",
    "        q2c_att = q2c_att.unsqueeze(1).repeat(1, t, 1)             # (batch, x_len, hidden*2)\n",
    "\n",
    "        return torch.cat((h, c2q_att, h * c2q_att, h * q2c_att), dim=-1)\n",
    "\n",
    "    def forward(self, batch):\n",
    "        # Character Embedding Layer\n",
    "        x_char_emb = self.char_emb(batch.x_char)\n",
    "        q_char_emb = self.char_emb(batch.q_char)\n",
    "\n",
    "        # Word Embedding Layer\n",
    "        x_word_emb = self.word_emb(batch.x_word[0])\n",
    "        q_word_emb = self.word_emb(batch.q_word[0])\n",
    "        x_lens = batch.x_word[1]\n",
    "        q_lens = batch.q_word[1]\n",
    "        \n",
    "        x = self.highway(x_char_emb, x_word_emb)\n",
    "        q = self.highway(q_char_emb, q_word_emb)\n",
    "\n",
    "        # Contextual Embedding Layer\n",
    "        h = self.contextual_emb(x, x_lens)\n",
    "        u = self.contextual_emb(q, q_lens)\n",
    "\n",
    "        # Attention Flow Layer\n",
    "        g = self.bidaf(h, u)\n",
    "\n",
    "        # Modeling Layer\n",
    "        m = self.modeling_lstm_1(g, x_lens)\n",
    "        m = self.modeling_lstm_2(m, x_lens)\n",
    "\n",
    "        # Output Layer\n",
    "        p1 = (self.wp1_g(g) + self.wp1_m(m)).squeeze()\n",
    "        p1 = F.softmax(p1, dim=-1)\n",
    "        m2 = self.output_lstm(m, x_lens)\n",
    "        p2 = (self.wp2_g(g) + self.wp2_m(m2)).squeeze()\n",
    "        p2 = F.softmax(p2, dim=-1)\n",
    "        return p1, p2"
   ]
  },
  {
   "cell_type": "code",
   "execution_count": 36,
   "metadata": {},
   "outputs": [],
   "source": [
    "device = torch.device(f\"cuda:{args.gpu}\" if torch.cuda.is_available() else \"cpu\")\n",
    "model = BiDAF(pretrain_embedding=squad_data.WORD.vocab.vectors,\n",
    "              char_vocab_size=len(squad_data.CHAR_NESTING.vocab)).to(device)"
   ]
  },
  {
   "cell_type": "markdown",
   "metadata": {},
   "source": [
    "# Train"
   ]
  },
  {
   "cell_type": "code",
   "execution_count": 37,
   "metadata": {},
   "outputs": [
    {
     "name": "stderr",
     "output_type": "stream",
     "text": [
      "WARNING:root:This caffe2 python run does not have GPU support. Will run in CPU only mode.\n"
     ]
    }
   ],
   "source": [
    "from torch import optim\n",
    "from tensorboardX import SummaryWriter\n",
    "\n",
    "optimizer = optim.Adagrad(filter(lambda p: p.requires_grad, model.parameters()), lr=0.2)\n",
    "criterion = nn.CrossEntropyLoss()\n",
    "model.train()\n",
    "writer = SummaryWriter('log')"
   ]
  },
  {
   "cell_type": "code",
   "execution_count": null,
   "metadata": {},
   "outputs": [
    {
     "name": "stdout",
     "output_type": "stream",
     "text": [
      "Epoch 0\n"
     ]
    }
   ],
   "source": [
    "iter = 0\n",
    "for i_epoch in range(12):\n",
    "    print(f'Epoch {i_epoch}')\n",
    "    squad_data.train_iter.init_epoch()\n",
    "    epoch_loss = 0.0\n",
    "\n",
    "    cur_batch_loss = 0.0\n",
    "    for i, batch in enumerate(squad_data.train_iter):\n",
    "        p1, p2 = model(batch)\n",
    "        loss = criterion(p1, batch.p_begin) + criterion(p2, batch.p_end)\n",
    "        cur_batch_loss += loss.item()\n",
    "        epoch_loss += loss.item()\n",
    "        loss.backward()\n",
    "        optimizer.step()\n",
    "        iter += 1\n",
    "\n",
    "        if iter % 100:\n",
    "            writer.add_scalar('Train/Loss', cur_batch_loss, iter // 100)\n",
    "            cur_batch_loss = 0.0\n",
    "\n",
    "    print(f\"Total epoch loss {epoch_loss}\")"
   ]
  },
  {
   "cell_type": "code",
   "execution_count": null,
   "metadata": {
    "collapsed": true
   },
   "outputs": [],
   "source": []
  }
 ],
 "metadata": {
  "kernelspec": {
   "display_name": "Python 3",
   "language": "python",
   "name": "python3"
  },
  "language_info": {
   "codemirror_mode": {
    "name": "ipython",
    "version": 3
   },
   "file_extension": ".py",
   "mimetype": "text/x-python",
   "name": "python",
   "nbconvert_exporter": "python",
   "pygments_lexer": "ipython3",
   "version": "3.6.8"
  }
 },
 "nbformat": 4,
 "nbformat_minor": 2
}
